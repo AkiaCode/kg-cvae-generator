{
 "cells": [
  {
   "cell_type": "code",
   "execution_count": 1,
   "metadata": {},
   "outputs": [],
   "source": [
    "import pandas\n",
    "from konlpy.tag import Mecab\n",
    "\n",
    "tokenizer = Mecab()"
   ]
  },
  {
   "cell_type": "code",
   "execution_count": 2,
   "metadata": {},
   "outputs": [],
   "source": [
    "meta_sex_dict = {'FEMALE': 0, 'MALE': 1}\n",
    "meta_age_dict = {'STUDENT': 0, 'COLLEGIAN': 1, 'CIVILIAN': 2}\n",
    "meta_relation_dict = {'FRIEND': 0, 'LOVER': 1}\n",
    "\n",
    "input_tsv = \"gen_scene_new.tsv\"\n",
    "temp_json = \"gen_temp.json\"\n",
    "output_json = \"gen_scenario.json\"\n",
    "\n",
    "\n",
    "def labeling_sentiment(sentiment_val):\n",
    "    if sentiment_val < -0.2:\n",
    "        return \"StrongNeg\"\n",
    "    elif sentiment_val < -0.05:\n",
    "        return \"WeakNeg\"\n",
    "    elif sentiment_val < 0.09:\n",
    "        return \"Neutral\"\n",
    "    elif sentiment_val < 0.2:\n",
    "        return \"WeakPos\"\n",
    "    else:\n",
    "        return \"StrongPos\"\n"
   ]
  },
  {
   "cell_type": "code",
   "execution_count": 3,
   "metadata": {},
   "outputs": [],
   "source": [
    "dialogs = []\n",
    "with open(input_tsv) as gen_scene:\n",
    "    sessions = gen_scene.read().strip().split(\"\\n\\t\\n\")\n",
    "\n",
    "for session in sessions:\n",
    "    lines = session.strip().split(\"\\n\")\n",
    "    dialog= []\n",
    "    lines = lines[3:]\n",
    "    for line in lines:\n",
    "        turn, utter = line.split(\"\\t\")\n",
    "        dialog.append((turn,utter))\n",
    "    dialogs.append(dialog)"
   ]
  },
  {
   "cell_type": "code",
   "execution_count": 4,
   "metadata": {},
   "outputs": [],
   "source": [
    "import itertools\n",
    "all_keys = [list(meta_sex_dict.keys()), list(meta_age_dict.keys()), list(meta_relation_dict.keys())]\n",
    "sex_age_keys = [list(meta_sex_dict.keys()), list(meta_age_dict.keys())]\n",
    "#print(list(itertools.product(*all_keys)))\n",
    "    \n",
    "    \n",
    "    "
   ]
  },
  {
   "cell_type": "code",
   "execution_count": 5,
   "metadata": {},
   "outputs": [],
   "source": [
    "session_dict_list = []\n",
    "for dialog_idx, dialog in enumerate(dialogs):\n",
    "    overall_utts = []\n",
    "    for line in dialog:\n",
    "        turn_marker = line[0]\n",
    "        turn_sentence = line[1]\n",
    "        overall_utts.append((turn_marker, tokenizer.morphs(turn_sentence), turn_sentence))\n",
    "    \n",
    "    for my_sex, my_age, relation in itertools.product(*all_keys):\n",
    "        for your_sex, your_age in itertools.product(*sex_age_keys):\n",
    "            session_dict = {}\n",
    "            session_dict['session_idx_str'] = dialog_idx\n",
    "            session_dict['A'] = {'age': meta_age_dict[my_age], 'age_group': my_age,\n",
    "                                 'sex': meta_sex_dict[my_sex], 'sex_group': my_sex,\n",
    "                                 'relation': meta_relation_dict[relation],\n",
    "                                 'relation_group': relation}\n",
    "\n",
    "            session_dict['B'] = {'age': meta_age_dict[your_age], 'age_group': your_age,\n",
    "                                 'sex': meta_sex_dict[your_sex], 'sex_group': your_sex,\n",
    "                                 'relation': meta_relation_dict[relation],\n",
    "                                 'relation_group': relation}\n",
    "\n",
    "            session_dict['topic'] = \"핑퐁대화\"\n",
    "            session_dict['prompt'] = \"자유대화를 나눠보세요.\"\n",
    "            session_dict['utts'] = overall_utts\n",
    "            session_dict_list.append(session_dict)"
   ]
  },
  {
   "cell_type": "code",
   "execution_count": 6,
   "metadata": {},
   "outputs": [],
   "source": [
    "import json\n",
    "with open(temp_json, 'w', encoding='utf-8') as f:\n",
    "    json.dump(session_dict_list, f, ensure_ascii=False, indent=4)"
   ]
  },
  {
   "cell_type": "code",
   "execution_count": 7,
   "metadata": {},
   "outputs": [
    {
     "name": "stderr",
     "output_type": "stream",
     "text": [
      "/home/sjkoo1989/PycharmProjects/pingpong-generator2/generator/corpus_preprocessor/pingpongapi/emotion_model/utils.py:17: YAMLLoadWarning: calling yaml.load() without Loader=... is deprecated, as the default Loader is unsafe. Please read https://msg.pyyaml.org/load for full details.\n",
      "  return yaml.load(f)\n"
     ]
    },
    {
     "name": "stdout",
     "output_type": "stream",
     "text": [
      "INFO:tensorflow:Restoring parameters from /scatter/workspace/pingpong/models/emotion_model_data/reaction_multitask/best_NDCG.ckpt-321728\n",
      "INFO:tensorflow:Restoring parameters from /scatter/workspace/pingpong/models/emotion_model_data/emojiness/best_NDCG.ckpt-107630\n"
     ]
    },
    {
     "name": "stderr",
     "output_type": "stream",
     "text": [
      "/home/sjkoo1989/venv/lib/python3.6/site-packages/sklearn/base.py:251: UserWarning: Trying to unpickle estimator _SigmoidCalibration from version 0.19.1 when using version 0.20.2. This might lead to breaking code or invalid results. Use at your own risk.\n",
      "  UserWarning)\n",
      "/home/sjkoo1989/venv/lib/python3.6/site-packages/sklearn/base.py:251: UserWarning: Trying to unpickle estimator LabelEncoder from version 0.19.1 when using version 0.20.2. This might lead to breaking code or invalid results. Use at your own risk.\n",
      "  UserWarning)\n",
      "/home/sjkoo1989/venv/lib/python3.6/site-packages/sklearn/base.py:251: UserWarning: Trying to unpickle estimator CalibratedClassifierCV from version 0.19.1 when using version 0.20.2. This might lead to breaking code or invalid results. Use at your own risk.\n",
      "  UserWarning)\n"
     ]
    }
   ],
   "source": [
    "import dialog_sentiment\n",
    "sent_extractor = dialog_sentiment.SentimentExtractor(\"pingpongapi/config_dev.yaml\")"
   ]
  },
  {
   "cell_type": "code",
   "execution_count": 8,
   "metadata": {},
   "outputs": [
    {
     "name": "stderr",
     "output_type": "stream",
     "text": [
      "100%|██████████| 720/720 [00:03<00:00, 203.88it/s]\n"
     ]
    }
   ],
   "source": [
    "result = sent_extractor.extract_sentiment_from_json(temp_json, temp_json, 60)"
   ]
  },
  {
   "cell_type": "code",
   "execution_count": null,
   "metadata": {},
   "outputs": [],
   "source": []
  },
  {
   "cell_type": "code",
   "execution_count": 11,
   "metadata": {},
   "outputs": [
    {
     "name": "stderr",
     "output_type": "stream",
     "text": [
      "100%|██████████| 720/720 [00:00<00:00, 221448.92it/s]\n"
     ]
    }
   ],
   "source": [
    "import copy, tqdm\n",
    "with open(temp_json, \"r\") as json_reader:\n",
    "    json_content = json.load(json_reader)\n",
    "output_json_content = copy.deepcopy(json_content)\n",
    "for session_idx, session in enumerate(tqdm.tqdm(json_content)):\n",
    "    session_utts = session['utts']\n",
    "    for turn_idx, turn_info in enumerate(session_utts):\n",
    "        senti_val = turn_info[3]\n",
    "        target_line = output_json_content[session_idx]['utts'][turn_idx]\n",
    "        target_line.append(labeling_sentiment(senti_val))\n",
    "\n",
    "with open(output_json, 'w', encoding='utf-8') as f:\n",
    "    json.dump(output_json_content, f, ensure_ascii=False, indent=4)\n",
    "        "
   ]
  },
  {
   "cell_type": "code",
   "execution_count": null,
   "metadata": {},
   "outputs": [],
   "source": []
  }
 ],
 "metadata": {
  "kernelspec": {
   "display_name": "venv",
   "language": "python",
   "name": "venv"
  },
  "language_info": {
   "codemirror_mode": {
    "name": "ipython",
    "version": 3
   },
   "file_extension": ".py",
   "mimetype": "text/x-python",
   "name": "python",
   "nbconvert_exporter": "python",
   "pygments_lexer": "ipython3",
   "version": "3.6.6"
  }
 },
 "nbformat": 4,
 "nbformat_minor": 2
}
